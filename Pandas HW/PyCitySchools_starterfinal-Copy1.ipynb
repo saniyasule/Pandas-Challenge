{
 "cells": [
  {
   "cell_type": "markdown",
   "metadata": {},
   "source": [
    "### Note\n",
    "* Instructions have been included for each segment. You do not have to follow them exactly, but they are included to help you think through the steps."
   ]
  },
  {
   "cell_type": "code",
   "execution_count": 1,
   "metadata": {},
   "outputs": [],
   "source": [
    "# Dependencies and Setup\n",
    "import pandas as pd\n",
    "import numpy as nm\n",
    "\n",
    "# File to Load (Remember to Change These)\n",
    "school_data_to_load = \"Resources/schools_complete.csv\"\n",
    "student_data_to_load = \"Resources/students_complete.csv\"\n",
    "\n",
    "# Read School and Student Data File and store into Pandas Data Frames\n",
    "school_data = pd.read_csv(school_data_to_load)\n",
    "student_data = pd.read_csv(student_data_to_load)\n",
    "\n",
    "# Combine the data into a single dataset\n",
    "school_data_complete = pd.merge(student_data, school_data, how=\"left\", on=[\"school_name\", \"school_name\"])"
   ]
  },
  {
   "cell_type": "markdown",
   "metadata": {},
   "source": [
    "## District Summary\n",
    "\n",
    "* Calculate the total number of schools\n",
    "\n",
    "* Calculate the total number of students\n",
    "\n",
    "* Calculate the total budget\n",
    "\n",
    "* Calculate the average math score \n",
    "\n",
    "* Calculate the average reading score\n",
    "\n",
    "* Calculate the overall passing rate (overall average score), i.e. (avg. math score + avg. reading score)/2\n",
    "\n",
    "* Calculate the percentage of students with a passing math score (70 or greater)\n",
    "\n",
    "* Calculate the percentage of students with a passing reading score (70 or greater)\n",
    "\n",
    "* Create a dataframe to hold the above results\n",
    "\n",
    "* Optional: give the displayed data cleaner formatting"
   ]
  },
  {
   "cell_type": "code",
   "execution_count": 2,
   "metadata": {},
   "outputs": [],
   "source": [
    "school_data_complete['Pass_M'] = nm.where(school_data_complete[\"math_score\"] >= 70,1,0)\n",
    "school_data_complete['Pass_R'] = nm.where(school_data_complete[\"reading_score\"] >= 70,1,0)"
   ]
  },
  {
   "cell_type": "code",
   "execution_count": 3,
   "metadata": {},
   "outputs": [
    {
     "data": {
      "text/html": [
       "<style  type=\"text/css\" >\n",
       "</style><table id=\"T_41e2ad4a_1ed3_11ea_9a1b_a0510bd23efc\" ><thead>    <tr>        <th class=\"blank level0\" ></th>        <th class=\"col_heading level0 col0\" >Total Schools</th>        <th class=\"col_heading level0 col1\" >Total Students</th>        <th class=\"col_heading level0 col2\" >Total Budget</th>        <th class=\"col_heading level0 col3\" >Average Math Score</th>        <th class=\"col_heading level0 col4\" >Average Reading Score</th>        <th class=\"col_heading level0 col5\" >% Passing Math</th>        <th class=\"col_heading level0 col6\" >% Passing Reading</th>        <th class=\"col_heading level0 col7\" >% Overall Passing Rate</th>    </tr></thead><tbody>\n",
       "                <tr>\n",
       "                        <th id=\"T_41e2ad4a_1ed3_11ea_9a1b_a0510bd23efclevel0_row0\" class=\"row_heading level0 row0\" >0</th>\n",
       "                        <td id=\"T_41e2ad4a_1ed3_11ea_9a1b_a0510bd23efcrow0_col0\" class=\"data row0 col0\" >15</td>\n",
       "                        <td id=\"T_41e2ad4a_1ed3_11ea_9a1b_a0510bd23efcrow0_col1\" class=\"data row0 col1\" >39,170</td>\n",
       "                        <td id=\"T_41e2ad4a_1ed3_11ea_9a1b_a0510bd23efcrow0_col2\" class=\"data row0 col2\" >$24,649,428.00</td>\n",
       "                        <td id=\"T_41e2ad4a_1ed3_11ea_9a1b_a0510bd23efcrow0_col3\" class=\"data row0 col3\" >78.9854</td>\n",
       "                        <td id=\"T_41e2ad4a_1ed3_11ea_9a1b_a0510bd23efcrow0_col4\" class=\"data row0 col4\" >81.8778</td>\n",
       "                        <td id=\"T_41e2ad4a_1ed3_11ea_9a1b_a0510bd23efcrow0_col5\" class=\"data row0 col5\" >74.9809</td>\n",
       "                        <td id=\"T_41e2ad4a_1ed3_11ea_9a1b_a0510bd23efcrow0_col6\" class=\"data row0 col6\" >85.8055</td>\n",
       "                        <td id=\"T_41e2ad4a_1ed3_11ea_9a1b_a0510bd23efcrow0_col7\" class=\"data row0 col7\" >80.4316</td>\n",
       "            </tr>\n",
       "    </tbody></table>"
      ],
      "text/plain": [
       "<pandas.io.formats.style.Styler at 0x1d9d58bb6c8>"
      ]
     },
     "execution_count": 3,
     "metadata": {},
     "output_type": "execute_result"
    }
   ],
   "source": [
    "no_of_schools = school_data_complete[\"school_name\"].value_counts()\n",
    "total_no_of_schools = no_of_schools.count()\n",
    "Total_no_of_students = school_data_complete[\"Student ID\"].count()\n",
    "budget = school_data_complete[\"budget\"].unique()\n",
    "total_budget = budget.sum()\n",
    "Av_Math = school_data_complete[\"math_score\"].mean()\n",
    "Av_Reading = school_data_complete[\"reading_score\"].mean()\n",
    "only_Pass = school_data_complete.loc[school_data_complete[\"math_score\"] >= 70,]\n",
    "Pass = only_Pass[\"math_score\"].count()\n",
    "Passing_Math = (Pass/Total_no_of_students)*100\n",
    "only_Pass_Read = school_data_complete.loc[school_data_complete[\"reading_score\"] >= 70,]\n",
    "Pass_Read = only_Pass_Read[\"reading_score\"].count()\n",
    "Passing_Read = (Pass_Read/Total_no_of_students)*100\n",
    "Overall = (Av_Math + Av_Reading )/2\n",
    "summary_table = pd.DataFrame({\"Total Schools\": total_no_of_schools,\n",
    "                              \"Total Students\": Total_no_of_students,\n",
    "                              \"Total Budget\": total_budget,\n",
    "                              \"Average Math Score\": Av_Math,\"Average Reading Score\": [Av_Reading],\n",
    "                              \"% Passing Math\": [Passing_Math] ,\"% Passing Reading\": [Passing_Read],\n",
    "                             \"% Overall Passing Rate\": [Overall]})\n",
    "summary_table.style.format({\"Total Students\": (\"{:,.0f}\") , \"Total Budget\" : (\"${:,.2f}\") })"
   ]
  },
  {
   "cell_type": "code",
   "execution_count": 4,
   "metadata": {},
   "outputs": [],
   "source": [
    "renamed = school_data_complete.rename(columns={\"school_name\":\"School Name\"})\n",
    "grouped_Schools = renamed.groupby(['School Name'])"
   ]
  },
  {
   "cell_type": "markdown",
   "metadata": {},
   "source": [
    "## School Summary"
   ]
  },
  {
   "cell_type": "markdown",
   "metadata": {},
   "source": [
    "* Create an overview table that summarizes key metrics about each school, including:\n",
    "  * School Name\n",
    "  * School Type\n",
    "  * Total Students\n",
    "  * Total School Budget\n",
    "  * Per Student Budget\n",
    "  * Average Math Score\n",
    "  * Average Reading Score\n",
    "  * % Passing Math\n",
    "  * % Passing Reading\n",
    "  * Overall Passing Rate (Average of the above two)\n",
    "  \n",
    "* Create a dataframe to hold the above results"
   ]
  },
  {
   "cell_type": "markdown",
   "metadata": {},
   "source": [
    "## Top Performing Schools (By Passing Rate)"
   ]
  },
  {
   "cell_type": "markdown",
   "metadata": {},
   "source": [
    "* Sort and display the top five schools in overall passing rate"
   ]
  },
  {
   "cell_type": "code",
   "execution_count": 5,
   "metadata": {},
   "outputs": [
    {
     "data": {
      "text/html": [
       "<style  type=\"text/css\" >\n",
       "</style><table id=\"T_4240073a_1ed3_11ea_8885_a0510bd23efc\" ><thead>    <tr>        <th class=\"blank level0\" ></th>        <th class=\"col_heading level0 col0\" >School Type</th>        <th class=\"col_heading level0 col1\" >Total Students</th>        <th class=\"col_heading level0 col2\" >Total Budget</th>        <th class=\"col_heading level0 col3\" >Per Student Budget</th>        <th class=\"col_heading level0 col4\" >Average Math Score</th>        <th class=\"col_heading level0 col5\" >Average Reading Score</th>        <th class=\"col_heading level0 col6\" > % Passing Math</th>        <th class=\"col_heading level0 col7\" >% Passing Reading</th>        <th class=\"col_heading level0 col8\" >% Overall Passing Rate</th>    </tr>    <tr>        <th class=\"index_name level0\" >School Name</th>        <th class=\"blank\" ></th>        <th class=\"blank\" ></th>        <th class=\"blank\" ></th>        <th class=\"blank\" ></th>        <th class=\"blank\" ></th>        <th class=\"blank\" ></th>        <th class=\"blank\" ></th>        <th class=\"blank\" ></th>        <th class=\"blank\" ></th>    </tr></thead><tbody>\n",
       "                <tr>\n",
       "                        <th id=\"T_4240073a_1ed3_11ea_8885_a0510bd23efclevel0_row0\" class=\"row_heading level0 row0\" >Cabrera High School</th>\n",
       "                        <td id=\"T_4240073a_1ed3_11ea_8885_a0510bd23efcrow0_col0\" class=\"data row0 col0\" >Charter</td>\n",
       "                        <td id=\"T_4240073a_1ed3_11ea_8885_a0510bd23efcrow0_col1\" class=\"data row0 col1\" >1,858</td>\n",
       "                        <td id=\"T_4240073a_1ed3_11ea_8885_a0510bd23efcrow0_col2\" class=\"data row0 col2\" >$1,081,356.00</td>\n",
       "                        <td id=\"T_4240073a_1ed3_11ea_8885_a0510bd23efcrow0_col3\" class=\"data row0 col3\" >$582.00</td>\n",
       "                        <td id=\"T_4240073a_1ed3_11ea_8885_a0510bd23efcrow0_col4\" class=\"data row0 col4\" >83.0619</td>\n",
       "                        <td id=\"T_4240073a_1ed3_11ea_8885_a0510bd23efcrow0_col5\" class=\"data row0 col5\" >83.9758</td>\n",
       "                        <td id=\"T_4240073a_1ed3_11ea_8885_a0510bd23efcrow0_col6\" class=\"data row0 col6\" >94.1335</td>\n",
       "                        <td id=\"T_4240073a_1ed3_11ea_8885_a0510bd23efcrow0_col7\" class=\"data row0 col7\" >97.0398</td>\n",
       "                        <td id=\"T_4240073a_1ed3_11ea_8885_a0510bd23efcrow0_col8\" class=\"data row0 col8\" >95.5867</td>\n",
       "            </tr>\n",
       "            <tr>\n",
       "                        <th id=\"T_4240073a_1ed3_11ea_8885_a0510bd23efclevel0_row1\" class=\"row_heading level0 row1\" >Thomas High School</th>\n",
       "                        <td id=\"T_4240073a_1ed3_11ea_8885_a0510bd23efcrow1_col0\" class=\"data row1 col0\" >Charter</td>\n",
       "                        <td id=\"T_4240073a_1ed3_11ea_8885_a0510bd23efcrow1_col1\" class=\"data row1 col1\" >1,635</td>\n",
       "                        <td id=\"T_4240073a_1ed3_11ea_8885_a0510bd23efcrow1_col2\" class=\"data row1 col2\" >$1,043,130.00</td>\n",
       "                        <td id=\"T_4240073a_1ed3_11ea_8885_a0510bd23efcrow1_col3\" class=\"data row1 col3\" >$638.00</td>\n",
       "                        <td id=\"T_4240073a_1ed3_11ea_8885_a0510bd23efcrow1_col4\" class=\"data row1 col4\" >83.4183</td>\n",
       "                        <td id=\"T_4240073a_1ed3_11ea_8885_a0510bd23efcrow1_col5\" class=\"data row1 col5\" >83.8489</td>\n",
       "                        <td id=\"T_4240073a_1ed3_11ea_8885_a0510bd23efcrow1_col6\" class=\"data row1 col6\" >93.2722</td>\n",
       "                        <td id=\"T_4240073a_1ed3_11ea_8885_a0510bd23efcrow1_col7\" class=\"data row1 col7\" >97.3089</td>\n",
       "                        <td id=\"T_4240073a_1ed3_11ea_8885_a0510bd23efcrow1_col8\" class=\"data row1 col8\" >95.2905</td>\n",
       "            </tr>\n",
       "            <tr>\n",
       "                        <th id=\"T_4240073a_1ed3_11ea_8885_a0510bd23efclevel0_row2\" class=\"row_heading level0 row2\" >Pena High School</th>\n",
       "                        <td id=\"T_4240073a_1ed3_11ea_8885_a0510bd23efcrow2_col0\" class=\"data row2 col0\" >Charter</td>\n",
       "                        <td id=\"T_4240073a_1ed3_11ea_8885_a0510bd23efcrow2_col1\" class=\"data row2 col1\" >962</td>\n",
       "                        <td id=\"T_4240073a_1ed3_11ea_8885_a0510bd23efcrow2_col2\" class=\"data row2 col2\" >$585,858.00</td>\n",
       "                        <td id=\"T_4240073a_1ed3_11ea_8885_a0510bd23efcrow2_col3\" class=\"data row2 col3\" >$609.00</td>\n",
       "                        <td id=\"T_4240073a_1ed3_11ea_8885_a0510bd23efcrow2_col4\" class=\"data row2 col4\" >83.8399</td>\n",
       "                        <td id=\"T_4240073a_1ed3_11ea_8885_a0510bd23efcrow2_col5\" class=\"data row2 col5\" >84.0447</td>\n",
       "                        <td id=\"T_4240073a_1ed3_11ea_8885_a0510bd23efcrow2_col6\" class=\"data row2 col6\" >94.5946</td>\n",
       "                        <td id=\"T_4240073a_1ed3_11ea_8885_a0510bd23efcrow2_col7\" class=\"data row2 col7\" >95.9459</td>\n",
       "                        <td id=\"T_4240073a_1ed3_11ea_8885_a0510bd23efcrow2_col8\" class=\"data row2 col8\" >95.2703</td>\n",
       "            </tr>\n",
       "            <tr>\n",
       "                        <th id=\"T_4240073a_1ed3_11ea_8885_a0510bd23efclevel0_row3\" class=\"row_heading level0 row3\" >Griffin High School</th>\n",
       "                        <td id=\"T_4240073a_1ed3_11ea_8885_a0510bd23efcrow3_col0\" class=\"data row3 col0\" >Charter</td>\n",
       "                        <td id=\"T_4240073a_1ed3_11ea_8885_a0510bd23efcrow3_col1\" class=\"data row3 col1\" >1,468</td>\n",
       "                        <td id=\"T_4240073a_1ed3_11ea_8885_a0510bd23efcrow3_col2\" class=\"data row3 col2\" >$917,500.00</td>\n",
       "                        <td id=\"T_4240073a_1ed3_11ea_8885_a0510bd23efcrow3_col3\" class=\"data row3 col3\" >$625.00</td>\n",
       "                        <td id=\"T_4240073a_1ed3_11ea_8885_a0510bd23efcrow3_col4\" class=\"data row3 col4\" >83.3515</td>\n",
       "                        <td id=\"T_4240073a_1ed3_11ea_8885_a0510bd23efcrow3_col5\" class=\"data row3 col5\" >83.8168</td>\n",
       "                        <td id=\"T_4240073a_1ed3_11ea_8885_a0510bd23efcrow3_col6\" class=\"data row3 col6\" >93.3924</td>\n",
       "                        <td id=\"T_4240073a_1ed3_11ea_8885_a0510bd23efcrow3_col7\" class=\"data row3 col7\" >97.139</td>\n",
       "                        <td id=\"T_4240073a_1ed3_11ea_8885_a0510bd23efcrow3_col8\" class=\"data row3 col8\" >95.2657</td>\n",
       "            </tr>\n",
       "            <tr>\n",
       "                        <th id=\"T_4240073a_1ed3_11ea_8885_a0510bd23efclevel0_row4\" class=\"row_heading level0 row4\" >Wilson High School</th>\n",
       "                        <td id=\"T_4240073a_1ed3_11ea_8885_a0510bd23efcrow4_col0\" class=\"data row4 col0\" >Charter</td>\n",
       "                        <td id=\"T_4240073a_1ed3_11ea_8885_a0510bd23efcrow4_col1\" class=\"data row4 col1\" >2,283</td>\n",
       "                        <td id=\"T_4240073a_1ed3_11ea_8885_a0510bd23efcrow4_col2\" class=\"data row4 col2\" >$1,319,574.00</td>\n",
       "                        <td id=\"T_4240073a_1ed3_11ea_8885_a0510bd23efcrow4_col3\" class=\"data row4 col3\" >$578.00</td>\n",
       "                        <td id=\"T_4240073a_1ed3_11ea_8885_a0510bd23efcrow4_col4\" class=\"data row4 col4\" >83.2742</td>\n",
       "                        <td id=\"T_4240073a_1ed3_11ea_8885_a0510bd23efcrow4_col5\" class=\"data row4 col5\" >83.9895</td>\n",
       "                        <td id=\"T_4240073a_1ed3_11ea_8885_a0510bd23efcrow4_col6\" class=\"data row4 col6\" >93.8677</td>\n",
       "                        <td id=\"T_4240073a_1ed3_11ea_8885_a0510bd23efcrow4_col7\" class=\"data row4 col7\" >96.5396</td>\n",
       "                        <td id=\"T_4240073a_1ed3_11ea_8885_a0510bd23efcrow4_col8\" class=\"data row4 col8\" >95.2037</td>\n",
       "            </tr>\n",
       "    </tbody></table>"
      ],
      "text/plain": [
       "<pandas.io.formats.style.Styler at 0x1d9d6d6c448>"
      ]
     },
     "execution_count": 5,
     "metadata": {},
     "output_type": "execute_result"
    }
   ],
   "source": [
    "School_1 = grouped_Schools[\"type\"].unique()\n",
    "School_Type = School_1.str.get(0)\n",
    "Total_Students = grouped_Schools[\"Student ID\"].count()\n",
    "Total_School__1 = grouped_Schools[\"budget\"].unique()\n",
    "Total_School_Budget = Total_School__1.str.get(0)\n",
    "Per_Student_Budget = Total_School_Budget / Total_Students\n",
    "Avg_M = grouped_Schools[\"math_score\"].mean()\n",
    "Avg_R = grouped_Schools[\"reading_score\"].mean()\n",
    "Math = grouped_Schools[\"Pass_M\"].sum()\n",
    "Percentage_Math = (Math/Total_Students)*100\n",
    "Reading = grouped_Schools[\"Pass_R\"].sum()\n",
    "Percentage_Read = (Reading/Total_Students)*100\n",
    "Average = (Percentage_Math + Percentage_Read)/2\n",
    "School_table = pd.DataFrame({\"School Type\": School_Type,\n",
    "                              \"Total Students\": Total_Students,\n",
    "                              \"Total Budget\": Total_School_Budget,\n",
    "                              \"Per Student Budget\": Per_Student_Budget ,\n",
    "                             \"Average Math Score\": Avg_M ,\"Average Reading Score\": Avg_R ,\n",
    "                               \" % Passing Math\": Percentage_Math ,\n",
    "                               \"% Passing Reading\": Percentage_Read ,\n",
    "                             \"% Overall Passing Rate\": Average  }).sort_values(\"% Overall Passing Rate\" ,\n",
    "                                                                               ascending=False)\n",
    "School_table.head().style.format({\"Total Students\": (\"{:,.0f}\") , \"Total Budget\" : (\"${:,.2f}\") , \"Per Student Budget\" : (\"${:,.2f}\") })"
   ]
  },
  {
   "cell_type": "markdown",
   "metadata": {},
   "source": [
    "## Bottom Performing Schools (By Passing Rate)"
   ]
  },
  {
   "cell_type": "markdown",
   "metadata": {},
   "source": [
    "* Sort and display the five worst-performing schools"
   ]
  },
  {
   "cell_type": "code",
   "execution_count": 6,
   "metadata": {},
   "outputs": [
    {
     "data": {
      "text/html": [
       "<style  type=\"text/css\" >\n",
       "</style><table id=\"T_426c7d94_1ed3_11ea_968f_a0510bd23efc\" ><thead>    <tr>        <th class=\"blank level0\" ></th>        <th class=\"col_heading level0 col0\" >School Type</th>        <th class=\"col_heading level0 col1\" >Total Students</th>        <th class=\"col_heading level0 col2\" >Total Budget</th>        <th class=\"col_heading level0 col3\" >Per Student Budget</th>        <th class=\"col_heading level0 col4\" >Average Math Score</th>        <th class=\"col_heading level0 col5\" >Average Reading Score</th>        <th class=\"col_heading level0 col6\" > % Passing Math</th>        <th class=\"col_heading level0 col7\" >% Passing Reading</th>        <th class=\"col_heading level0 col8\" >% Overall Passing Rate</th>    </tr>    <tr>        <th class=\"index_name level0\" >School Name</th>        <th class=\"blank\" ></th>        <th class=\"blank\" ></th>        <th class=\"blank\" ></th>        <th class=\"blank\" ></th>        <th class=\"blank\" ></th>        <th class=\"blank\" ></th>        <th class=\"blank\" ></th>        <th class=\"blank\" ></th>        <th class=\"blank\" ></th>    </tr></thead><tbody>\n",
       "                <tr>\n",
       "                        <th id=\"T_426c7d94_1ed3_11ea_968f_a0510bd23efclevel0_row0\" class=\"row_heading level0 row0\" >Rodriguez High School</th>\n",
       "                        <td id=\"T_426c7d94_1ed3_11ea_968f_a0510bd23efcrow0_col0\" class=\"data row0 col0\" >District</td>\n",
       "                        <td id=\"T_426c7d94_1ed3_11ea_968f_a0510bd23efcrow0_col1\" class=\"data row0 col1\" >3,999</td>\n",
       "                        <td id=\"T_426c7d94_1ed3_11ea_968f_a0510bd23efcrow0_col2\" class=\"data row0 col2\" >$2,547,363.00</td>\n",
       "                        <td id=\"T_426c7d94_1ed3_11ea_968f_a0510bd23efcrow0_col3\" class=\"data row0 col3\" >$637.00</td>\n",
       "                        <td id=\"T_426c7d94_1ed3_11ea_968f_a0510bd23efcrow0_col4\" class=\"data row0 col4\" >76.8427</td>\n",
       "                        <td id=\"T_426c7d94_1ed3_11ea_968f_a0510bd23efcrow0_col5\" class=\"data row0 col5\" >80.7447</td>\n",
       "                        <td id=\"T_426c7d94_1ed3_11ea_968f_a0510bd23efcrow0_col6\" class=\"data row0 col6\" >66.3666</td>\n",
       "                        <td id=\"T_426c7d94_1ed3_11ea_968f_a0510bd23efcrow0_col7\" class=\"data row0 col7\" >80.2201</td>\n",
       "                        <td id=\"T_426c7d94_1ed3_11ea_968f_a0510bd23efcrow0_col8\" class=\"data row0 col8\" >73.2933</td>\n",
       "            </tr>\n",
       "            <tr>\n",
       "                        <th id=\"T_426c7d94_1ed3_11ea_968f_a0510bd23efclevel0_row1\" class=\"row_heading level0 row1\" >Figueroa High School</th>\n",
       "                        <td id=\"T_426c7d94_1ed3_11ea_968f_a0510bd23efcrow1_col0\" class=\"data row1 col0\" >District</td>\n",
       "                        <td id=\"T_426c7d94_1ed3_11ea_968f_a0510bd23efcrow1_col1\" class=\"data row1 col1\" >2,949</td>\n",
       "                        <td id=\"T_426c7d94_1ed3_11ea_968f_a0510bd23efcrow1_col2\" class=\"data row1 col2\" >$1,884,411.00</td>\n",
       "                        <td id=\"T_426c7d94_1ed3_11ea_968f_a0510bd23efcrow1_col3\" class=\"data row1 col3\" >$639.00</td>\n",
       "                        <td id=\"T_426c7d94_1ed3_11ea_968f_a0510bd23efcrow1_col4\" class=\"data row1 col4\" >76.7118</td>\n",
       "                        <td id=\"T_426c7d94_1ed3_11ea_968f_a0510bd23efcrow1_col5\" class=\"data row1 col5\" >81.158</td>\n",
       "                        <td id=\"T_426c7d94_1ed3_11ea_968f_a0510bd23efcrow1_col6\" class=\"data row1 col6\" >65.9885</td>\n",
       "                        <td id=\"T_426c7d94_1ed3_11ea_968f_a0510bd23efcrow1_col7\" class=\"data row1 col7\" >80.7392</td>\n",
       "                        <td id=\"T_426c7d94_1ed3_11ea_968f_a0510bd23efcrow1_col8\" class=\"data row1 col8\" >73.3639</td>\n",
       "            </tr>\n",
       "            <tr>\n",
       "                        <th id=\"T_426c7d94_1ed3_11ea_968f_a0510bd23efclevel0_row2\" class=\"row_heading level0 row2\" >Huang High School</th>\n",
       "                        <td id=\"T_426c7d94_1ed3_11ea_968f_a0510bd23efcrow2_col0\" class=\"data row2 col0\" >District</td>\n",
       "                        <td id=\"T_426c7d94_1ed3_11ea_968f_a0510bd23efcrow2_col1\" class=\"data row2 col1\" >2,917</td>\n",
       "                        <td id=\"T_426c7d94_1ed3_11ea_968f_a0510bd23efcrow2_col2\" class=\"data row2 col2\" >$1,910,635.00</td>\n",
       "                        <td id=\"T_426c7d94_1ed3_11ea_968f_a0510bd23efcrow2_col3\" class=\"data row2 col3\" >$655.00</td>\n",
       "                        <td id=\"T_426c7d94_1ed3_11ea_968f_a0510bd23efcrow2_col4\" class=\"data row2 col4\" >76.6294</td>\n",
       "                        <td id=\"T_426c7d94_1ed3_11ea_968f_a0510bd23efcrow2_col5\" class=\"data row2 col5\" >81.1827</td>\n",
       "                        <td id=\"T_426c7d94_1ed3_11ea_968f_a0510bd23efcrow2_col6\" class=\"data row2 col6\" >65.6839</td>\n",
       "                        <td id=\"T_426c7d94_1ed3_11ea_968f_a0510bd23efcrow2_col7\" class=\"data row2 col7\" >81.3164</td>\n",
       "                        <td id=\"T_426c7d94_1ed3_11ea_968f_a0510bd23efcrow2_col8\" class=\"data row2 col8\" >73.5002</td>\n",
       "            </tr>\n",
       "            <tr>\n",
       "                        <th id=\"T_426c7d94_1ed3_11ea_968f_a0510bd23efclevel0_row3\" class=\"row_heading level0 row3\" >Johnson High School</th>\n",
       "                        <td id=\"T_426c7d94_1ed3_11ea_968f_a0510bd23efcrow3_col0\" class=\"data row3 col0\" >District</td>\n",
       "                        <td id=\"T_426c7d94_1ed3_11ea_968f_a0510bd23efcrow3_col1\" class=\"data row3 col1\" >4,761</td>\n",
       "                        <td id=\"T_426c7d94_1ed3_11ea_968f_a0510bd23efcrow3_col2\" class=\"data row3 col2\" >$3,094,650.00</td>\n",
       "                        <td id=\"T_426c7d94_1ed3_11ea_968f_a0510bd23efcrow3_col3\" class=\"data row3 col3\" >$650.00</td>\n",
       "                        <td id=\"T_426c7d94_1ed3_11ea_968f_a0510bd23efcrow3_col4\" class=\"data row3 col4\" >77.0725</td>\n",
       "                        <td id=\"T_426c7d94_1ed3_11ea_968f_a0510bd23efcrow3_col5\" class=\"data row3 col5\" >80.9664</td>\n",
       "                        <td id=\"T_426c7d94_1ed3_11ea_968f_a0510bd23efcrow3_col6\" class=\"data row3 col6\" >66.0576</td>\n",
       "                        <td id=\"T_426c7d94_1ed3_11ea_968f_a0510bd23efcrow3_col7\" class=\"data row3 col7\" >81.2224</td>\n",
       "                        <td id=\"T_426c7d94_1ed3_11ea_968f_a0510bd23efcrow3_col8\" class=\"data row3 col8\" >73.64</td>\n",
       "            </tr>\n",
       "            <tr>\n",
       "                        <th id=\"T_426c7d94_1ed3_11ea_968f_a0510bd23efclevel0_row4\" class=\"row_heading level0 row4\" >Ford High School</th>\n",
       "                        <td id=\"T_426c7d94_1ed3_11ea_968f_a0510bd23efcrow4_col0\" class=\"data row4 col0\" >District</td>\n",
       "                        <td id=\"T_426c7d94_1ed3_11ea_968f_a0510bd23efcrow4_col1\" class=\"data row4 col1\" >2,739</td>\n",
       "                        <td id=\"T_426c7d94_1ed3_11ea_968f_a0510bd23efcrow4_col2\" class=\"data row4 col2\" >$1,763,916.00</td>\n",
       "                        <td id=\"T_426c7d94_1ed3_11ea_968f_a0510bd23efcrow4_col3\" class=\"data row4 col3\" >$644.00</td>\n",
       "                        <td id=\"T_426c7d94_1ed3_11ea_968f_a0510bd23efcrow4_col4\" class=\"data row4 col4\" >77.1026</td>\n",
       "                        <td id=\"T_426c7d94_1ed3_11ea_968f_a0510bd23efcrow4_col5\" class=\"data row4 col5\" >80.7463</td>\n",
       "                        <td id=\"T_426c7d94_1ed3_11ea_968f_a0510bd23efcrow4_col6\" class=\"data row4 col6\" >68.3096</td>\n",
       "                        <td id=\"T_426c7d94_1ed3_11ea_968f_a0510bd23efcrow4_col7\" class=\"data row4 col7\" >79.299</td>\n",
       "                        <td id=\"T_426c7d94_1ed3_11ea_968f_a0510bd23efcrow4_col8\" class=\"data row4 col8\" >73.8043</td>\n",
       "            </tr>\n",
       "    </tbody></table>"
      ],
      "text/plain": [
       "<pandas.io.formats.style.Styler at 0x1d9d6ceee48>"
      ]
     },
     "execution_count": 6,
     "metadata": {},
     "output_type": "execute_result"
    }
   ],
   "source": [
    "School_1 = grouped_Schools[\"type\"].unique()\n",
    "School_Type = School_1.str.get(0)\n",
    "Total_Students = grouped_Schools[\"Student ID\"].count()\n",
    "Total_School__1 = grouped_Schools[\"budget\"].unique()\n",
    "Total_School_Budget = Total_School__1.str.get(0)\n",
    "Per_Student_Budget = Total_School_Budget / Total_Students\n",
    "Avg_M = grouped_Schools[\"math_score\"].mean()\n",
    "Avg_R = grouped_Schools[\"reading_score\"].mean()\n",
    "Math = grouped_Schools[\"Pass_M\"].sum()\n",
    "Percentage_Math = (Math/Total_Students)*100\n",
    "Reading = grouped_Schools[\"Pass_R\"].sum()\n",
    "Percentage_Read = (Reading/Total_Students)*100\n",
    "Average = (Percentage_Math + Percentage_Read)/2\n",
    "School_table_1 = pd.DataFrame({\"School Type\": School_Type,\n",
    "                              \"Total Students\": Total_Students,\n",
    "                              \"Total Budget\": Total_School_Budget,\n",
    "                              \"Per Student Budget\": Per_Student_Budget ,\n",
    "                             \"Average Math Score\": Avg_M ,\"Average Reading Score\": Avg_R ,\n",
    "                               \" % Passing Math\": Percentage_Math ,\n",
    "                               \"% Passing Reading\": Percentage_Read ,\n",
    "                             \"% Overall Passing Rate\": Average  }).sort_values(\"% Overall Passing Rate\")\n",
    "School_table_1.head().style.format({\"Total Students\": (\"{:,.0f}\") , \"Total Budget\" : (\"${:,.2f}\") , \"Per Student Budget\" : (\"${:,.2f}\") })"
   ]
  },
  {
   "cell_type": "markdown",
   "metadata": {
    "collapsed": true
   },
   "source": [
    "## Math Scores by Grade"
   ]
  },
  {
   "cell_type": "markdown",
   "metadata": {},
   "source": [
    "* Create a table that lists the average Reading Score for students of each grade level (9th, 10th, 11th, 12th) at each school.\n",
    "\n",
    "  * Create a pandas series for each grade. Hint: use a conditional statement.\n",
    "  \n",
    "  * Group each series by school\n",
    "  \n",
    "  * Combine the series into a dataframe\n",
    "  \n",
    "  * Optional: give the displayed data cleaner formatting"
   ]
  },
  {
   "cell_type": "code",
   "execution_count": 7,
   "metadata": {},
   "outputs": [
    {
     "data": {
      "text/html": [
       "<style  type=\"text/css\" >\n",
       "</style><table id=\"T_42a1a76e_1ed3_11ea_befb_a0510bd23efc\" ><thead>    <tr>        <th class=\"blank level0\" ></th>        <th class=\"col_heading level0 col0\" >9th</th>        <th class=\"col_heading level0 col1\" >10th</th>        <th class=\"col_heading level0 col2\" >11th</th>        <th class=\"col_heading level0 col3\" >12th</th>    </tr>    <tr>        <th class=\"index_name level0\" >school_name</th>        <th class=\"blank\" ></th>        <th class=\"blank\" ></th>        <th class=\"blank\" ></th>        <th class=\"blank\" ></th>    </tr></thead><tbody>\n",
       "                <tr>\n",
       "                        <th id=\"T_42a1a76e_1ed3_11ea_befb_a0510bd23efclevel0_row0\" class=\"row_heading level0 row0\" >Bailey High School</th>\n",
       "                        <td id=\"T_42a1a76e_1ed3_11ea_befb_a0510bd23efcrow0_col0\" class=\"data row0 col0\" >77.0837</td>\n",
       "                        <td id=\"T_42a1a76e_1ed3_11ea_befb_a0510bd23efcrow0_col1\" class=\"data row0 col1\" >76.9968</td>\n",
       "                        <td id=\"T_42a1a76e_1ed3_11ea_befb_a0510bd23efcrow0_col2\" class=\"data row0 col2\" >77.5156</td>\n",
       "                        <td id=\"T_42a1a76e_1ed3_11ea_befb_a0510bd23efcrow0_col3\" class=\"data row0 col3\" >76.4922</td>\n",
       "            </tr>\n",
       "            <tr>\n",
       "                        <th id=\"T_42a1a76e_1ed3_11ea_befb_a0510bd23efclevel0_row1\" class=\"row_heading level0 row1\" >Cabrera High School</th>\n",
       "                        <td id=\"T_42a1a76e_1ed3_11ea_befb_a0510bd23efcrow1_col0\" class=\"data row1 col0\" >83.0947</td>\n",
       "                        <td id=\"T_42a1a76e_1ed3_11ea_befb_a0510bd23efcrow1_col1\" class=\"data row1 col1\" >83.1545</td>\n",
       "                        <td id=\"T_42a1a76e_1ed3_11ea_befb_a0510bd23efcrow1_col2\" class=\"data row1 col2\" >82.7656</td>\n",
       "                        <td id=\"T_42a1a76e_1ed3_11ea_befb_a0510bd23efcrow1_col3\" class=\"data row1 col3\" >83.2775</td>\n",
       "            </tr>\n",
       "            <tr>\n",
       "                        <th id=\"T_42a1a76e_1ed3_11ea_befb_a0510bd23efclevel0_row2\" class=\"row_heading level0 row2\" >Figueroa High School</th>\n",
       "                        <td id=\"T_42a1a76e_1ed3_11ea_befb_a0510bd23efcrow2_col0\" class=\"data row2 col0\" >76.403</td>\n",
       "                        <td id=\"T_42a1a76e_1ed3_11ea_befb_a0510bd23efcrow2_col1\" class=\"data row2 col1\" >76.54</td>\n",
       "                        <td id=\"T_42a1a76e_1ed3_11ea_befb_a0510bd23efcrow2_col2\" class=\"data row2 col2\" >76.8843</td>\n",
       "                        <td id=\"T_42a1a76e_1ed3_11ea_befb_a0510bd23efcrow2_col3\" class=\"data row2 col3\" >77.1514</td>\n",
       "            </tr>\n",
       "            <tr>\n",
       "                        <th id=\"T_42a1a76e_1ed3_11ea_befb_a0510bd23efclevel0_row3\" class=\"row_heading level0 row3\" >Ford High School</th>\n",
       "                        <td id=\"T_42a1a76e_1ed3_11ea_befb_a0510bd23efcrow3_col0\" class=\"data row3 col0\" >77.3613</td>\n",
       "                        <td id=\"T_42a1a76e_1ed3_11ea_befb_a0510bd23efcrow3_col1\" class=\"data row3 col1\" >77.6723</td>\n",
       "                        <td id=\"T_42a1a76e_1ed3_11ea_befb_a0510bd23efcrow3_col2\" class=\"data row3 col2\" >76.9181</td>\n",
       "                        <td id=\"T_42a1a76e_1ed3_11ea_befb_a0510bd23efcrow3_col3\" class=\"data row3 col3\" >76.18</td>\n",
       "            </tr>\n",
       "            <tr>\n",
       "                        <th id=\"T_42a1a76e_1ed3_11ea_befb_a0510bd23efclevel0_row4\" class=\"row_heading level0 row4\" >Griffin High School</th>\n",
       "                        <td id=\"T_42a1a76e_1ed3_11ea_befb_a0510bd23efcrow4_col0\" class=\"data row4 col0\" >82.044</td>\n",
       "                        <td id=\"T_42a1a76e_1ed3_11ea_befb_a0510bd23efcrow4_col1\" class=\"data row4 col1\" >84.2291</td>\n",
       "                        <td id=\"T_42a1a76e_1ed3_11ea_befb_a0510bd23efcrow4_col2\" class=\"data row4 col2\" >83.8421</td>\n",
       "                        <td id=\"T_42a1a76e_1ed3_11ea_befb_a0510bd23efcrow4_col3\" class=\"data row4 col3\" >83.3562</td>\n",
       "            </tr>\n",
       "            <tr>\n",
       "                        <th id=\"T_42a1a76e_1ed3_11ea_befb_a0510bd23efclevel0_row5\" class=\"row_heading level0 row5\" >Hernandez High School</th>\n",
       "                        <td id=\"T_42a1a76e_1ed3_11ea_befb_a0510bd23efcrow5_col0\" class=\"data row5 col0\" >77.4385</td>\n",
       "                        <td id=\"T_42a1a76e_1ed3_11ea_befb_a0510bd23efcrow5_col1\" class=\"data row5 col1\" >77.3374</td>\n",
       "                        <td id=\"T_42a1a76e_1ed3_11ea_befb_a0510bd23efcrow5_col2\" class=\"data row5 col2\" >77.136</td>\n",
       "                        <td id=\"T_42a1a76e_1ed3_11ea_befb_a0510bd23efcrow5_col3\" class=\"data row5 col3\" >77.1866</td>\n",
       "            </tr>\n",
       "            <tr>\n",
       "                        <th id=\"T_42a1a76e_1ed3_11ea_befb_a0510bd23efclevel0_row6\" class=\"row_heading level0 row6\" >Holden High School</th>\n",
       "                        <td id=\"T_42a1a76e_1ed3_11ea_befb_a0510bd23efcrow6_col0\" class=\"data row6 col0\" >83.7874</td>\n",
       "                        <td id=\"T_42a1a76e_1ed3_11ea_befb_a0510bd23efcrow6_col1\" class=\"data row6 col1\" >83.4298</td>\n",
       "                        <td id=\"T_42a1a76e_1ed3_11ea_befb_a0510bd23efcrow6_col2\" class=\"data row6 col2\" >85</td>\n",
       "                        <td id=\"T_42a1a76e_1ed3_11ea_befb_a0510bd23efcrow6_col3\" class=\"data row6 col3\" >82.8554</td>\n",
       "            </tr>\n",
       "            <tr>\n",
       "                        <th id=\"T_42a1a76e_1ed3_11ea_befb_a0510bd23efclevel0_row7\" class=\"row_heading level0 row7\" >Huang High School</th>\n",
       "                        <td id=\"T_42a1a76e_1ed3_11ea_befb_a0510bd23efcrow7_col0\" class=\"data row7 col0\" >77.0273</td>\n",
       "                        <td id=\"T_42a1a76e_1ed3_11ea_befb_a0510bd23efcrow7_col1\" class=\"data row7 col1\" >75.9087</td>\n",
       "                        <td id=\"T_42a1a76e_1ed3_11ea_befb_a0510bd23efcrow7_col2\" class=\"data row7 col2\" >76.4466</td>\n",
       "                        <td id=\"T_42a1a76e_1ed3_11ea_befb_a0510bd23efcrow7_col3\" class=\"data row7 col3\" >77.2256</td>\n",
       "            </tr>\n",
       "            <tr>\n",
       "                        <th id=\"T_42a1a76e_1ed3_11ea_befb_a0510bd23efclevel0_row8\" class=\"row_heading level0 row8\" >Johnson High School</th>\n",
       "                        <td id=\"T_42a1a76e_1ed3_11ea_befb_a0510bd23efcrow8_col0\" class=\"data row8 col0\" >77.1879</td>\n",
       "                        <td id=\"T_42a1a76e_1ed3_11ea_befb_a0510bd23efcrow8_col1\" class=\"data row8 col1\" >76.6911</td>\n",
       "                        <td id=\"T_42a1a76e_1ed3_11ea_befb_a0510bd23efcrow8_col2\" class=\"data row8 col2\" >77.4917</td>\n",
       "                        <td id=\"T_42a1a76e_1ed3_11ea_befb_a0510bd23efcrow8_col3\" class=\"data row8 col3\" >76.8632</td>\n",
       "            </tr>\n",
       "            <tr>\n",
       "                        <th id=\"T_42a1a76e_1ed3_11ea_befb_a0510bd23efclevel0_row9\" class=\"row_heading level0 row9\" >Pena High School</th>\n",
       "                        <td id=\"T_42a1a76e_1ed3_11ea_befb_a0510bd23efcrow9_col0\" class=\"data row9 col0\" >83.6255</td>\n",
       "                        <td id=\"T_42a1a76e_1ed3_11ea_befb_a0510bd23efcrow9_col1\" class=\"data row9 col1\" >83.372</td>\n",
       "                        <td id=\"T_42a1a76e_1ed3_11ea_befb_a0510bd23efcrow9_col2\" class=\"data row9 col2\" >84.3281</td>\n",
       "                        <td id=\"T_42a1a76e_1ed3_11ea_befb_a0510bd23efcrow9_col3\" class=\"data row9 col3\" >84.1215</td>\n",
       "            </tr>\n",
       "            <tr>\n",
       "                        <th id=\"T_42a1a76e_1ed3_11ea_befb_a0510bd23efclevel0_row10\" class=\"row_heading level0 row10\" >Rodriguez High School</th>\n",
       "                        <td id=\"T_42a1a76e_1ed3_11ea_befb_a0510bd23efcrow10_col0\" class=\"data row10 col0\" >76.86</td>\n",
       "                        <td id=\"T_42a1a76e_1ed3_11ea_befb_a0510bd23efcrow10_col1\" class=\"data row10 col1\" >76.6125</td>\n",
       "                        <td id=\"T_42a1a76e_1ed3_11ea_befb_a0510bd23efcrow10_col2\" class=\"data row10 col2\" >76.3956</td>\n",
       "                        <td id=\"T_42a1a76e_1ed3_11ea_befb_a0510bd23efcrow10_col3\" class=\"data row10 col3\" >77.6907</td>\n",
       "            </tr>\n",
       "            <tr>\n",
       "                        <th id=\"T_42a1a76e_1ed3_11ea_befb_a0510bd23efclevel0_row11\" class=\"row_heading level0 row11\" >Shelton High School</th>\n",
       "                        <td id=\"T_42a1a76e_1ed3_11ea_befb_a0510bd23efcrow11_col0\" class=\"data row11 col0\" >83.4208</td>\n",
       "                        <td id=\"T_42a1a76e_1ed3_11ea_befb_a0510bd23efcrow11_col1\" class=\"data row11 col1\" >82.9174</td>\n",
       "                        <td id=\"T_42a1a76e_1ed3_11ea_befb_a0510bd23efcrow11_col2\" class=\"data row11 col2\" >83.3835</td>\n",
       "                        <td id=\"T_42a1a76e_1ed3_11ea_befb_a0510bd23efcrow11_col3\" class=\"data row11 col3\" >83.779</td>\n",
       "            </tr>\n",
       "            <tr>\n",
       "                        <th id=\"T_42a1a76e_1ed3_11ea_befb_a0510bd23efclevel0_row12\" class=\"row_heading level0 row12\" >Thomas High School</th>\n",
       "                        <td id=\"T_42a1a76e_1ed3_11ea_befb_a0510bd23efcrow12_col0\" class=\"data row12 col0\" >83.59</td>\n",
       "                        <td id=\"T_42a1a76e_1ed3_11ea_befb_a0510bd23efcrow12_col1\" class=\"data row12 col1\" >83.0879</td>\n",
       "                        <td id=\"T_42a1a76e_1ed3_11ea_befb_a0510bd23efcrow12_col2\" class=\"data row12 col2\" >83.4988</td>\n",
       "                        <td id=\"T_42a1a76e_1ed3_11ea_befb_a0510bd23efcrow12_col3\" class=\"data row12 col3\" >83.497</td>\n",
       "            </tr>\n",
       "            <tr>\n",
       "                        <th id=\"T_42a1a76e_1ed3_11ea_befb_a0510bd23efclevel0_row13\" class=\"row_heading level0 row13\" >Wilson High School</th>\n",
       "                        <td id=\"T_42a1a76e_1ed3_11ea_befb_a0510bd23efcrow13_col0\" class=\"data row13 col0\" >83.0856</td>\n",
       "                        <td id=\"T_42a1a76e_1ed3_11ea_befb_a0510bd23efcrow13_col1\" class=\"data row13 col1\" >83.7244</td>\n",
       "                        <td id=\"T_42a1a76e_1ed3_11ea_befb_a0510bd23efcrow13_col2\" class=\"data row13 col2\" >83.1953</td>\n",
       "                        <td id=\"T_42a1a76e_1ed3_11ea_befb_a0510bd23efcrow13_col3\" class=\"data row13 col3\" >83.0358</td>\n",
       "            </tr>\n",
       "            <tr>\n",
       "                        <th id=\"T_42a1a76e_1ed3_11ea_befb_a0510bd23efclevel0_row14\" class=\"row_heading level0 row14\" >Wright High School</th>\n",
       "                        <td id=\"T_42a1a76e_1ed3_11ea_befb_a0510bd23efcrow14_col0\" class=\"data row14 col0\" >83.2647</td>\n",
       "                        <td id=\"T_42a1a76e_1ed3_11ea_befb_a0510bd23efcrow14_col1\" class=\"data row14 col1\" >84.0103</td>\n",
       "                        <td id=\"T_42a1a76e_1ed3_11ea_befb_a0510bd23efcrow14_col2\" class=\"data row14 col2\" >83.8368</td>\n",
       "                        <td id=\"T_42a1a76e_1ed3_11ea_befb_a0510bd23efcrow14_col3\" class=\"data row14 col3\" >83.645</td>\n",
       "            </tr>\n",
       "    </tbody></table>"
      ],
      "text/plain": [
       "<pandas.io.formats.style.Styler at 0x1d9d6d4f108>"
      ]
     },
     "execution_count": 7,
     "metadata": {},
     "output_type": "execute_result"
    }
   ],
   "source": [
    "\n",
    "nineth = school_data_complete.loc[school_data_complete[\"grade\"] == \"9th\"]\n",
    "nineth_grades = nineth.groupby(['school_name'])\n",
    "Avg_M_a = nineth_grades[\"math_score\"].mean()\n",
    "tenth = school_data_complete.loc[school_data_complete[\"grade\"] == \"10th\"]\n",
    "tenth_grades = tenth.groupby(['school_name'])\n",
    "Avg_M_b = tenth_grades[\"math_score\"].mean()\n",
    "eleventh = school_data_complete.loc[school_data_complete[\"grade\"] == \"11th\"]\n",
    "eleventh_grades = eleventh.groupby(['school_name'])\n",
    "Avg_M_c = eleventh_grades[\"math_score\"].mean()\n",
    "twelveth = school_data_complete.loc[school_data_complete[\"grade\"] == \"12th\"]\n",
    "twelveth_grades = twelveth.groupby(['school_name'])\n",
    "Avg_M_d = twelveth_grades[\"math_score\"].mean()\n",
    "School_table_A = pd.DataFrame({\"9th\": Avg_M_a,\n",
    "                              \"10th\": Avg_M_b,\n",
    "                              \"11th\": Avg_M_c,\n",
    "                              \"12th\":Avg_M_d })\n",
    "School_table_A.style"
   ]
  },
  {
   "cell_type": "markdown",
   "metadata": {},
   "source": [
    "## Reading Score by Grade "
   ]
  },
  {
   "cell_type": "markdown",
   "metadata": {},
   "source": [
    "* Perform the same operations as above for reading scores"
   ]
  },
  {
   "cell_type": "code",
   "execution_count": 8,
   "metadata": {},
   "outputs": [
    {
     "data": {
      "text/html": [
       "<style  type=\"text/css\" >\n",
       "</style><table id=\"T_42cf56f6_1ed3_11ea_8e9e_a0510bd23efc\" ><thead>    <tr>        <th class=\"blank level0\" ></th>        <th class=\"col_heading level0 col0\" >9th</th>        <th class=\"col_heading level0 col1\" >10th</th>        <th class=\"col_heading level0 col2\" >11th</th>        <th class=\"col_heading level0 col3\" >12th</th>    </tr>    <tr>        <th class=\"index_name level0\" >school_name</th>        <th class=\"blank\" ></th>        <th class=\"blank\" ></th>        <th class=\"blank\" ></th>        <th class=\"blank\" ></th>    </tr></thead><tbody>\n",
       "                <tr>\n",
       "                        <th id=\"T_42cf56f6_1ed3_11ea_8e9e_a0510bd23efclevel0_row0\" class=\"row_heading level0 row0\" >Bailey High School</th>\n",
       "                        <td id=\"T_42cf56f6_1ed3_11ea_8e9e_a0510bd23efcrow0_col0\" class=\"data row0 col0\" >81.3032</td>\n",
       "                        <td id=\"T_42cf56f6_1ed3_11ea_8e9e_a0510bd23efcrow0_col1\" class=\"data row0 col1\" >80.9072</td>\n",
       "                        <td id=\"T_42cf56f6_1ed3_11ea_8e9e_a0510bd23efcrow0_col2\" class=\"data row0 col2\" >80.9456</td>\n",
       "                        <td id=\"T_42cf56f6_1ed3_11ea_8e9e_a0510bd23efcrow0_col3\" class=\"data row0 col3\" >80.9125</td>\n",
       "            </tr>\n",
       "            <tr>\n",
       "                        <th id=\"T_42cf56f6_1ed3_11ea_8e9e_a0510bd23efclevel0_row1\" class=\"row_heading level0 row1\" >Cabrera High School</th>\n",
       "                        <td id=\"T_42cf56f6_1ed3_11ea_8e9e_a0510bd23efcrow1_col0\" class=\"data row1 col0\" >83.6761</td>\n",
       "                        <td id=\"T_42cf56f6_1ed3_11ea_8e9e_a0510bd23efcrow1_col1\" class=\"data row1 col1\" >84.2532</td>\n",
       "                        <td id=\"T_42cf56f6_1ed3_11ea_8e9e_a0510bd23efcrow1_col2\" class=\"data row1 col2\" >83.7884</td>\n",
       "                        <td id=\"T_42cf56f6_1ed3_11ea_8e9e_a0510bd23efcrow1_col3\" class=\"data row1 col3\" >84.288</td>\n",
       "            </tr>\n",
       "            <tr>\n",
       "                        <th id=\"T_42cf56f6_1ed3_11ea_8e9e_a0510bd23efclevel0_row2\" class=\"row_heading level0 row2\" >Figueroa High School</th>\n",
       "                        <td id=\"T_42cf56f6_1ed3_11ea_8e9e_a0510bd23efcrow2_col0\" class=\"data row2 col0\" >81.1986</td>\n",
       "                        <td id=\"T_42cf56f6_1ed3_11ea_8e9e_a0510bd23efcrow2_col1\" class=\"data row2 col1\" >81.4089</td>\n",
       "                        <td id=\"T_42cf56f6_1ed3_11ea_8e9e_a0510bd23efcrow2_col2\" class=\"data row2 col2\" >80.6403</td>\n",
       "                        <td id=\"T_42cf56f6_1ed3_11ea_8e9e_a0510bd23efcrow2_col3\" class=\"data row2 col3\" >81.3849</td>\n",
       "            </tr>\n",
       "            <tr>\n",
       "                        <th id=\"T_42cf56f6_1ed3_11ea_8e9e_a0510bd23efclevel0_row3\" class=\"row_heading level0 row3\" >Ford High School</th>\n",
       "                        <td id=\"T_42cf56f6_1ed3_11ea_8e9e_a0510bd23efcrow3_col0\" class=\"data row3 col0\" >80.6327</td>\n",
       "                        <td id=\"T_42cf56f6_1ed3_11ea_8e9e_a0510bd23efcrow3_col1\" class=\"data row3 col1\" >81.2627</td>\n",
       "                        <td id=\"T_42cf56f6_1ed3_11ea_8e9e_a0510bd23efcrow3_col2\" class=\"data row3 col2\" >80.4036</td>\n",
       "                        <td id=\"T_42cf56f6_1ed3_11ea_8e9e_a0510bd23efcrow3_col3\" class=\"data row3 col3\" >80.6623</td>\n",
       "            </tr>\n",
       "            <tr>\n",
       "                        <th id=\"T_42cf56f6_1ed3_11ea_8e9e_a0510bd23efclevel0_row4\" class=\"row_heading level0 row4\" >Griffin High School</th>\n",
       "                        <td id=\"T_42cf56f6_1ed3_11ea_8e9e_a0510bd23efcrow4_col0\" class=\"data row4 col0\" >83.3692</td>\n",
       "                        <td id=\"T_42cf56f6_1ed3_11ea_8e9e_a0510bd23efcrow4_col1\" class=\"data row4 col1\" >83.7069</td>\n",
       "                        <td id=\"T_42cf56f6_1ed3_11ea_8e9e_a0510bd23efcrow4_col2\" class=\"data row4 col2\" >84.2881</td>\n",
       "                        <td id=\"T_42cf56f6_1ed3_11ea_8e9e_a0510bd23efcrow4_col3\" class=\"data row4 col3\" >84.0137</td>\n",
       "            </tr>\n",
       "            <tr>\n",
       "                        <th id=\"T_42cf56f6_1ed3_11ea_8e9e_a0510bd23efclevel0_row5\" class=\"row_heading level0 row5\" >Hernandez High School</th>\n",
       "                        <td id=\"T_42cf56f6_1ed3_11ea_8e9e_a0510bd23efcrow5_col0\" class=\"data row5 col0\" >80.8669</td>\n",
       "                        <td id=\"T_42cf56f6_1ed3_11ea_8e9e_a0510bd23efcrow5_col1\" class=\"data row5 col1\" >80.6601</td>\n",
       "                        <td id=\"T_42cf56f6_1ed3_11ea_8e9e_a0510bd23efcrow5_col2\" class=\"data row5 col2\" >81.3961</td>\n",
       "                        <td id=\"T_42cf56f6_1ed3_11ea_8e9e_a0510bd23efcrow5_col3\" class=\"data row5 col3\" >80.8571</td>\n",
       "            </tr>\n",
       "            <tr>\n",
       "                        <th id=\"T_42cf56f6_1ed3_11ea_8e9e_a0510bd23efclevel0_row6\" class=\"row_heading level0 row6\" >Holden High School</th>\n",
       "                        <td id=\"T_42cf56f6_1ed3_11ea_8e9e_a0510bd23efcrow6_col0\" class=\"data row6 col0\" >83.6772</td>\n",
       "                        <td id=\"T_42cf56f6_1ed3_11ea_8e9e_a0510bd23efcrow6_col1\" class=\"data row6 col1\" >83.3246</td>\n",
       "                        <td id=\"T_42cf56f6_1ed3_11ea_8e9e_a0510bd23efcrow6_col2\" class=\"data row6 col2\" >83.8155</td>\n",
       "                        <td id=\"T_42cf56f6_1ed3_11ea_8e9e_a0510bd23efcrow6_col3\" class=\"data row6 col3\" >84.6988</td>\n",
       "            </tr>\n",
       "            <tr>\n",
       "                        <th id=\"T_42cf56f6_1ed3_11ea_8e9e_a0510bd23efclevel0_row7\" class=\"row_heading level0 row7\" >Huang High School</th>\n",
       "                        <td id=\"T_42cf56f6_1ed3_11ea_8e9e_a0510bd23efcrow7_col0\" class=\"data row7 col0\" >81.2903</td>\n",
       "                        <td id=\"T_42cf56f6_1ed3_11ea_8e9e_a0510bd23efcrow7_col1\" class=\"data row7 col1\" >81.5124</td>\n",
       "                        <td id=\"T_42cf56f6_1ed3_11ea_8e9e_a0510bd23efcrow7_col2\" class=\"data row7 col2\" >81.4175</td>\n",
       "                        <td id=\"T_42cf56f6_1ed3_11ea_8e9e_a0510bd23efcrow7_col3\" class=\"data row7 col3\" >80.306</td>\n",
       "            </tr>\n",
       "            <tr>\n",
       "                        <th id=\"T_42cf56f6_1ed3_11ea_8e9e_a0510bd23efclevel0_row8\" class=\"row_heading level0 row8\" >Johnson High School</th>\n",
       "                        <td id=\"T_42cf56f6_1ed3_11ea_8e9e_a0510bd23efcrow8_col0\" class=\"data row8 col0\" >81.2607</td>\n",
       "                        <td id=\"T_42cf56f6_1ed3_11ea_8e9e_a0510bd23efcrow8_col1\" class=\"data row8 col1\" >80.7734</td>\n",
       "                        <td id=\"T_42cf56f6_1ed3_11ea_8e9e_a0510bd23efcrow8_col2\" class=\"data row8 col2\" >80.616</td>\n",
       "                        <td id=\"T_42cf56f6_1ed3_11ea_8e9e_a0510bd23efcrow8_col3\" class=\"data row8 col3\" >81.2276</td>\n",
       "            </tr>\n",
       "            <tr>\n",
       "                        <th id=\"T_42cf56f6_1ed3_11ea_8e9e_a0510bd23efclevel0_row9\" class=\"row_heading level0 row9\" >Pena High School</th>\n",
       "                        <td id=\"T_42cf56f6_1ed3_11ea_8e9e_a0510bd23efcrow9_col0\" class=\"data row9 col0\" >83.8073</td>\n",
       "                        <td id=\"T_42cf56f6_1ed3_11ea_8e9e_a0510bd23efcrow9_col1\" class=\"data row9 col1\" >83.612</td>\n",
       "                        <td id=\"T_42cf56f6_1ed3_11ea_8e9e_a0510bd23efcrow9_col2\" class=\"data row9 col2\" >84.3359</td>\n",
       "                        <td id=\"T_42cf56f6_1ed3_11ea_8e9e_a0510bd23efcrow9_col3\" class=\"data row9 col3\" >84.5912</td>\n",
       "            </tr>\n",
       "            <tr>\n",
       "                        <th id=\"T_42cf56f6_1ed3_11ea_8e9e_a0510bd23efclevel0_row10\" class=\"row_heading level0 row10\" >Rodriguez High School</th>\n",
       "                        <td id=\"T_42cf56f6_1ed3_11ea_8e9e_a0510bd23efcrow10_col0\" class=\"data row10 col0\" >80.9931</td>\n",
       "                        <td id=\"T_42cf56f6_1ed3_11ea_8e9e_a0510bd23efcrow10_col1\" class=\"data row10 col1\" >80.6298</td>\n",
       "                        <td id=\"T_42cf56f6_1ed3_11ea_8e9e_a0510bd23efcrow10_col2\" class=\"data row10 col2\" >80.8648</td>\n",
       "                        <td id=\"T_42cf56f6_1ed3_11ea_8e9e_a0510bd23efcrow10_col3\" class=\"data row10 col3\" >80.3764</td>\n",
       "            </tr>\n",
       "            <tr>\n",
       "                        <th id=\"T_42cf56f6_1ed3_11ea_8e9e_a0510bd23efclevel0_row11\" class=\"row_heading level0 row11\" >Shelton High School</th>\n",
       "                        <td id=\"T_42cf56f6_1ed3_11ea_8e9e_a0510bd23efcrow11_col0\" class=\"data row11 col0\" >84.1226</td>\n",
       "                        <td id=\"T_42cf56f6_1ed3_11ea_8e9e_a0510bd23efcrow11_col1\" class=\"data row11 col1\" >83.442</td>\n",
       "                        <td id=\"T_42cf56f6_1ed3_11ea_8e9e_a0510bd23efcrow11_col2\" class=\"data row11 col2\" >84.3738</td>\n",
       "                        <td id=\"T_42cf56f6_1ed3_11ea_8e9e_a0510bd23efcrow11_col3\" class=\"data row11 col3\" >82.7817</td>\n",
       "            </tr>\n",
       "            <tr>\n",
       "                        <th id=\"T_42cf56f6_1ed3_11ea_8e9e_a0510bd23efclevel0_row12\" class=\"row_heading level0 row12\" >Thomas High School</th>\n",
       "                        <td id=\"T_42cf56f6_1ed3_11ea_8e9e_a0510bd23efcrow12_col0\" class=\"data row12 col0\" >83.7289</td>\n",
       "                        <td id=\"T_42cf56f6_1ed3_11ea_8e9e_a0510bd23efcrow12_col1\" class=\"data row12 col1\" >84.2542</td>\n",
       "                        <td id=\"T_42cf56f6_1ed3_11ea_8e9e_a0510bd23efcrow12_col2\" class=\"data row12 col2\" >83.5855</td>\n",
       "                        <td id=\"T_42cf56f6_1ed3_11ea_8e9e_a0510bd23efcrow12_col3\" class=\"data row12 col3\" >83.8314</td>\n",
       "            </tr>\n",
       "            <tr>\n",
       "                        <th id=\"T_42cf56f6_1ed3_11ea_8e9e_a0510bd23efclevel0_row13\" class=\"row_heading level0 row13\" >Wilson High School</th>\n",
       "                        <td id=\"T_42cf56f6_1ed3_11ea_8e9e_a0510bd23efcrow13_col0\" class=\"data row13 col0\" >83.9398</td>\n",
       "                        <td id=\"T_42cf56f6_1ed3_11ea_8e9e_a0510bd23efcrow13_col1\" class=\"data row13 col1\" >84.0215</td>\n",
       "                        <td id=\"T_42cf56f6_1ed3_11ea_8e9e_a0510bd23efcrow13_col2\" class=\"data row13 col2\" >83.7646</td>\n",
       "                        <td id=\"T_42cf56f6_1ed3_11ea_8e9e_a0510bd23efcrow13_col3\" class=\"data row13 col3\" >84.3177</td>\n",
       "            </tr>\n",
       "            <tr>\n",
       "                        <th id=\"T_42cf56f6_1ed3_11ea_8e9e_a0510bd23efclevel0_row14\" class=\"row_heading level0 row14\" >Wright High School</th>\n",
       "                        <td id=\"T_42cf56f6_1ed3_11ea_8e9e_a0510bd23efcrow14_col0\" class=\"data row14 col0\" >83.8333</td>\n",
       "                        <td id=\"T_42cf56f6_1ed3_11ea_8e9e_a0510bd23efcrow14_col1\" class=\"data row14 col1\" >83.8128</td>\n",
       "                        <td id=\"T_42cf56f6_1ed3_11ea_8e9e_a0510bd23efcrow14_col2\" class=\"data row14 col2\" >84.1563</td>\n",
       "                        <td id=\"T_42cf56f6_1ed3_11ea_8e9e_a0510bd23efcrow14_col3\" class=\"data row14 col3\" >84.0732</td>\n",
       "            </tr>\n",
       "    </tbody></table>"
      ],
      "text/plain": [
       "<pandas.io.formats.style.Styler at 0x1d9d6cf0408>"
      ]
     },
     "execution_count": 8,
     "metadata": {},
     "output_type": "execute_result"
    }
   ],
   "source": [
    "nineth = school_data_complete.loc[school_data_complete[\"grade\"] == \"9th\"]\n",
    "nineth_grades = nineth.groupby(['school_name'])\n",
    "Avg_M_a1 = nineth_grades[\"reading_score\"].mean()\n",
    "tenth = school_data_complete.loc[school_data_complete[\"grade\"] == \"10th\"]\n",
    "tenth_grades = tenth.groupby(['school_name'])\n",
    "Avg_M_b1 = tenth_grades[\"reading_score\"].mean()\n",
    "eleventh = school_data_complete.loc[school_data_complete[\"grade\"] == \"11th\"]\n",
    "eleventh_grades = eleventh.groupby(['school_name'])\n",
    "Avg_M_c1 = eleventh_grades[\"reading_score\"].mean()\n",
    "twelveth = school_data_complete.loc[school_data_complete[\"grade\"] == \"12th\"]\n",
    "twelveth_grades = twelveth.groupby(['school_name'])\n",
    "Avg_M_d1 = twelveth_grades[\"reading_score\"].mean()\n",
    "School_table_B = pd.DataFrame({\"9th\": Avg_M_a1,\n",
    "                              \"10th\": Avg_M_b1,\n",
    "                              \"11th\": Avg_M_c1,\n",
    "                              \"12th\":Avg_M_d1 })\n",
    "School_table_B.style"
   ]
  },
  {
   "cell_type": "markdown",
   "metadata": {},
   "source": [
    "## Scores by School Spending"
   ]
  },
  {
   "cell_type": "markdown",
   "metadata": {},
   "source": [
    "* Create a table that breaks down school performances based on average Spending Ranges (Per Student). Use 4 reasonable bins to group school spending. Include in the table each of the following:\n",
    "  * Average Math Score\n",
    "  * Average Reading Score\n",
    "  * % Passing Math\n",
    "  * % Passing Reading\n",
    "  * Overall Passing Rate (Average of the above two)"
   ]
  },
  {
   "cell_type": "code",
   "execution_count": 9,
   "metadata": {},
   "outputs": [],
   "source": [
    "# Sample bins. Feel free to create your own bins.\n",
    "#spending_bins = [0, 585, 615, 645, 675]\n",
    "#group_names = [\"<$585\", \"$585-615\", \"$615-645\", \"$645-675\"]"
   ]
  },
  {
   "cell_type": "code",
   "execution_count": 10,
   "metadata": {},
   "outputs": [
    {
     "data": {
      "text/html": [
       "<div>\n",
       "<style scoped>\n",
       "    .dataframe tbody tr th:only-of-type {\n",
       "        vertical-align: middle;\n",
       "    }\n",
       "\n",
       "    .dataframe tbody tr th {\n",
       "        vertical-align: top;\n",
       "    }\n",
       "\n",
       "    .dataframe thead th {\n",
       "        text-align: right;\n",
       "    }\n",
       "</style>\n",
       "<table border=\"1\" class=\"dataframe\">\n",
       "  <thead>\n",
       "    <tr style=\"text-align: right;\">\n",
       "      <th></th>\n",
       "      <th>Average Math Score</th>\n",
       "      <th>Average Reading Score</th>\n",
       "      <th>% Passing Math</th>\n",
       "      <th>% Passing Reading</th>\n",
       "      <th>% Overall Passing Rate</th>\n",
       "      <th>Per Student Budget</th>\n",
       "    </tr>\n",
       "    <tr>\n",
       "      <th>Spending Ranges(per Student)</th>\n",
       "      <th></th>\n",
       "      <th></th>\n",
       "      <th></th>\n",
       "      <th></th>\n",
       "      <th></th>\n",
       "      <th></th>\n",
       "    </tr>\n",
       "  </thead>\n",
       "  <tbody>\n",
       "    <tr>\n",
       "      <td>&lt;$585</td>\n",
       "      <td>83.455399</td>\n",
       "      <td>83.933814</td>\n",
       "      <td>93.460096</td>\n",
       "      <td>96.610877</td>\n",
       "      <td>95.035486</td>\n",
       "      <td>581.000000</td>\n",
       "    </tr>\n",
       "    <tr>\n",
       "      <td>$585-615</td>\n",
       "      <td>83.599686</td>\n",
       "      <td>83.885211</td>\n",
       "      <td>94.230858</td>\n",
       "      <td>95.900287</td>\n",
       "      <td>95.065572</td>\n",
       "      <td>604.500000</td>\n",
       "    </tr>\n",
       "    <tr>\n",
       "      <td>$615-645</td>\n",
       "      <td>79.079225</td>\n",
       "      <td>81.891436</td>\n",
       "      <td>75.668212</td>\n",
       "      <td>86.106569</td>\n",
       "      <td>80.887391</td>\n",
       "      <td>635.166667</td>\n",
       "    </tr>\n",
       "    <tr>\n",
       "      <td>$645-675</td>\n",
       "      <td>76.997210</td>\n",
       "      <td>81.027843</td>\n",
       "      <td>66.164813</td>\n",
       "      <td>81.133951</td>\n",
       "      <td>73.649382</td>\n",
       "      <td>652.333333</td>\n",
       "    </tr>\n",
       "  </tbody>\n",
       "</table>\n",
       "</div>"
      ],
      "text/plain": [
       "                               Average Math Score  Average Reading Score  \\\n",
       "Spending Ranges(per Student)                                               \n",
       "<$585                                   83.455399              83.933814   \n",
       "$585-615                                83.599686              83.885211   \n",
       "$615-645                                79.079225              81.891436   \n",
       "$645-675                                76.997210              81.027843   \n",
       "\n",
       "                                % Passing Math  % Passing Reading  \\\n",
       "Spending Ranges(per Student)                                        \n",
       "<$585                                93.460096          96.610877   \n",
       "$585-615                             94.230858          95.900287   \n",
       "$615-645                             75.668212          86.106569   \n",
       "$645-675                             66.164813          81.133951   \n",
       "\n",
       "                               % Overall Passing Rate  Per Student Budget  \n",
       "Spending Ranges(per Student)                                               \n",
       "<$585                                       95.035486          581.000000  \n",
       "$585-615                                    95.065572          604.500000  \n",
       "$615-645                                    80.887391          635.166667  \n",
       "$645-675                                    73.649382          652.333333  "
      ]
     },
     "execution_count": 10,
     "metadata": {},
     "output_type": "execute_result"
    }
   ],
   "source": [
    "School_tableA = pd.DataFrame({ \"Average Math Score\": Avg_M ,\"Average Reading Score\": Avg_R ,\n",
    "                               \" % Passing Math\": Percentage_Math ,\n",
    "                               \"% Passing Reading\": Percentage_Read ,\n",
    "                             \"% Overall Passing Rate\": Average , \"Per Student Budget\": Per_Student_Budget })\n",
    "\n",
    "\n",
    "spending_bins = [0, 585, 615, 645, 675]\n",
    "group_names = [\"<$585\", \"$585-615\", \"$615-645\", \"$645-675\"]\n",
    "School_tableA[\"Spending Ranges(per Student) \"] = pd.cut(School_tableA[ \"Per Student Budget\"], spending_bins, labels=group_names)\n",
    "School_tableA = School_tableA.groupby(\"Spending Ranges(per Student) \")\n",
    "School_tableA.mean()"
   ]
  },
  {
   "cell_type": "markdown",
   "metadata": {},
   "source": [
    "## Scores by School Size"
   ]
  },
  {
   "cell_type": "markdown",
   "metadata": {},
   "source": [
    "* Perform the same operations as above, based on school size."
   ]
  },
  {
   "cell_type": "code",
   "execution_count": 11,
   "metadata": {},
   "outputs": [],
   "source": [
    "# Sample bins. Feel free to create your own bins.\n",
    "#size_bins = [0, 1000, 2000, 5000]\n",
    "#group_names = [\"Small (<1000)\", \"Medium (1000-2000)\", \"Large (2000-5000)\"]"
   ]
  },
  {
   "cell_type": "code",
   "execution_count": 12,
   "metadata": {
    "scrolled": true
   },
   "outputs": [
    {
     "data": {
      "text/html": [
       "<div>\n",
       "<style scoped>\n",
       "    .dataframe tbody tr th:only-of-type {\n",
       "        vertical-align: middle;\n",
       "    }\n",
       "\n",
       "    .dataframe tbody tr th {\n",
       "        vertical-align: top;\n",
       "    }\n",
       "\n",
       "    .dataframe thead th {\n",
       "        text-align: right;\n",
       "    }\n",
       "</style>\n",
       "<table border=\"1\" class=\"dataframe\">\n",
       "  <thead>\n",
       "    <tr style=\"text-align: right;\">\n",
       "      <th></th>\n",
       "      <th>Average Math Score</th>\n",
       "      <th>Average Reading Score</th>\n",
       "      <th>% Passing Math</th>\n",
       "      <th>% Passing Reading</th>\n",
       "      <th>% Overall Passing Rate</th>\n",
       "      <th>Total Students</th>\n",
       "    </tr>\n",
       "    <tr>\n",
       "      <th>School Size</th>\n",
       "      <th></th>\n",
       "      <th></th>\n",
       "      <th></th>\n",
       "      <th></th>\n",
       "      <th></th>\n",
       "      <th></th>\n",
       "    </tr>\n",
       "  </thead>\n",
       "  <tbody>\n",
       "    <tr>\n",
       "      <td>Small (&lt;1000)</td>\n",
       "      <td>83.821598</td>\n",
       "      <td>83.929843</td>\n",
       "      <td>93.550225</td>\n",
       "      <td>96.099437</td>\n",
       "      <td>94.824831</td>\n",
       "      <td>694.500</td>\n",
       "    </tr>\n",
       "    <tr>\n",
       "      <td>Medium (1000-2000)</td>\n",
       "      <td>83.374684</td>\n",
       "      <td>83.864438</td>\n",
       "      <td>93.599695</td>\n",
       "      <td>96.790680</td>\n",
       "      <td>95.195187</td>\n",
       "      <td>1704.400</td>\n",
       "    </tr>\n",
       "    <tr>\n",
       "      <td>Large (2000-5000)</td>\n",
       "      <td>77.746417</td>\n",
       "      <td>81.344493</td>\n",
       "      <td>69.963361</td>\n",
       "      <td>82.766634</td>\n",
       "      <td>76.364998</td>\n",
       "      <td>3657.375</td>\n",
       "    </tr>\n",
       "  </tbody>\n",
       "</table>\n",
       "</div>"
      ],
      "text/plain": [
       "                    Average Math Score  Average Reading Score  \\\n",
       "School Size                                                     \n",
       "Small (<1000)                83.821598              83.929843   \n",
       "Medium (1000-2000)           83.374684              83.864438   \n",
       "Large (2000-5000)            77.746417              81.344493   \n",
       "\n",
       "                     % Passing Math  % Passing Reading  \\\n",
       "School Size                                              \n",
       "Small (<1000)             93.550225          96.099437   \n",
       "Medium (1000-2000)        93.599695          96.790680   \n",
       "Large (2000-5000)         69.963361          82.766634   \n",
       "\n",
       "                    % Overall Passing Rate  Total Students  \n",
       "School Size                                                 \n",
       "Small (<1000)                    94.824831         694.500  \n",
       "Medium (1000-2000)               95.195187        1704.400  \n",
       "Large (2000-5000)                76.364998        3657.375  "
      ]
     },
     "execution_count": 12,
     "metadata": {},
     "output_type": "execute_result"
    }
   ],
   "source": [
    "School_tableB = pd.DataFrame({ \"Average Math Score\": Avg_M ,\"Average Reading Score\": Avg_R ,\n",
    "                               \" % Passing Math\": Percentage_Math ,\n",
    "                               \"% Passing Reading\": Percentage_Read ,\n",
    "                             \"% Overall Passing Rate\": Average , \"Total Students\": Total_Students})\n",
    "School_tableB.style\n",
    "\n",
    "size_bins = [0, 1000, 2000, 5000]\n",
    "group_names = [\"Small (<1000)\", \"Medium (1000-2000)\", \"Large (2000-5000)\"]\n",
    "School_tableB[\"School Size\"] = pd.cut(School_tableB[ \"Total Students\"],\n",
    "                                                        size_bins, labels=group_names)\n",
    "School_tableB = School_tableB.groupby(\"School Size\")\n",
    "School_tableB.mean()"
   ]
  },
  {
   "cell_type": "markdown",
   "metadata": {},
   "source": [
    "## Scores by School Type"
   ]
  },
  {
   "cell_type": "markdown",
   "metadata": {},
   "source": [
    "* Perform the same operations as above, based on school type."
   ]
  },
  {
   "cell_type": "code",
   "execution_count": 13,
   "metadata": {},
   "outputs": [],
   "source": [
    "#School_tableD = pd.DataFrame({\"Per Student Budget\": Per_Student_Budget ,\"School Type\": School_Type,\n",
    "                             #\"Average Math Score\": Avg_M ,\"Average Reading Score\": Avg_R ,\n",
    "                               #\" % Passing Math\": Percentage_Math ,\n",
    "                              # \"% Passing Reading\": Percentage_Read ,\n",
    "                             #\"% Overall Passing Rate\": Average  })\n",
    "\n",
    "\n",
    "#spending_bins = [???]\n",
    "#group_names = [\"Charter\", \"District\"]\n",
    "#School_tableD[\"Type\"] = pd.cut(School_tableD[ \"School Type\"], spending_bins, labels=group_names)\n",
    "#School_tableD = School_tableA.groupby(\"Type \")\n",
    "#School_tableD.mean()\n"
   ]
  },
  {
   "cell_type": "code",
   "execution_count": 14,
   "metadata": {},
   "outputs": [
    {
     "data": {
      "text/html": [
       "<style  type=\"text/css\" >\n",
       "</style><table id=\"T_432e74d8_1ed3_11ea_ad36_a0510bd23efc\" ><thead>    <tr>        <th class=\"blank level0\" ></th>        <th class=\"col_heading level0 col0\" >Average Math Score</th>        <th class=\"col_heading level0 col1\" >Average Reading Score</th>        <th class=\"col_heading level0 col2\" >% Passing Math</th>        <th class=\"col_heading level0 col3\" > % Passing Reading</th>        <th class=\"col_heading level0 col4\" >% Overall Passing Rate </th>    </tr>    <tr>        <th class=\"index_name level0\" >type</th>        <th class=\"blank\" ></th>        <th class=\"blank\" ></th>        <th class=\"blank\" ></th>        <th class=\"blank\" ></th>        <th class=\"blank\" ></th>    </tr></thead><tbody>\n",
       "                <tr>\n",
       "                        <th id=\"T_432e74d8_1ed3_11ea_ad36_a0510bd23efclevel0_row0\" class=\"row_heading level0 row0\" >Charter</th>\n",
       "                        <td id=\"T_432e74d8_1ed3_11ea_ad36_a0510bd23efcrow0_col0\" class=\"data row0 col0\" >83.4062</td>\n",
       "                        <td id=\"T_432e74d8_1ed3_11ea_ad36_a0510bd23efcrow0_col1\" class=\"data row0 col1\" >83.9028</td>\n",
       "                        <td id=\"T_432e74d8_1ed3_11ea_ad36_a0510bd23efcrow0_col2\" class=\"data row0 col2\" >93.7018</td>\n",
       "                        <td id=\"T_432e74d8_1ed3_11ea_ad36_a0510bd23efcrow0_col3\" class=\"data row0 col3\" >96.6459</td>\n",
       "                        <td id=\"T_432e74d8_1ed3_11ea_ad36_a0510bd23efcrow0_col4\" class=\"data row0 col4\" >95.1739</td>\n",
       "            </tr>\n",
       "            <tr>\n",
       "                        <th id=\"T_432e74d8_1ed3_11ea_ad36_a0510bd23efclevel0_row1\" class=\"row_heading level0 row1\" >District</th>\n",
       "                        <td id=\"T_432e74d8_1ed3_11ea_ad36_a0510bd23efcrow1_col0\" class=\"data row1 col0\" >76.987</td>\n",
       "                        <td id=\"T_432e74d8_1ed3_11ea_ad36_a0510bd23efcrow1_col1\" class=\"data row1 col1\" >80.9625</td>\n",
       "                        <td id=\"T_432e74d8_1ed3_11ea_ad36_a0510bd23efcrow1_col2\" class=\"data row1 col2\" >66.5184</td>\n",
       "                        <td id=\"T_432e74d8_1ed3_11ea_ad36_a0510bd23efcrow1_col3\" class=\"data row1 col3\" >80.9052</td>\n",
       "                        <td id=\"T_432e74d8_1ed3_11ea_ad36_a0510bd23efcrow1_col4\" class=\"data row1 col4\" >73.7118</td>\n",
       "            </tr>\n",
       "    </tbody></table>"
      ],
      "text/plain": [
       "<pandas.io.formats.style.Styler at 0x1d9d6d8cf08>"
      ]
     },
     "execution_count": 14,
     "metadata": {},
     "output_type": "execute_result"
    }
   ],
   "source": [
    "grouped_SchoolsD = school_data_complete.groupby([\"type\"])\n",
    "Avg_M = grouped_SchoolsD[\"math_score\"].mean()\n",
    "Avg_R = grouped_SchoolsD[\"reading_score\"].mean()\n",
    "Total_StudentsD = grouped_SchoolsD[\"Student ID\"].count()\n",
    "Math = grouped_SchoolsD[\"Pass_M\"].sum()\n",
    "Reading = grouped_SchoolsD[\"Pass_R\"].sum()\n",
    "Percentage_Math = (Math/Total_StudentsD)*100\n",
    "Percentage_Read = (Reading/Total_StudentsD)*100\n",
    "Average = (Percentage_Math + Percentage_Read)/2\n",
    "School_tabletype = pd.DataFrame({\"Average Math Score\": Avg_M ,\"Average Reading Score\": Avg_R ,\n",
    "                                 \"% Passing Math\": Percentage_Math ,\n",
    "                                 \" % Passing Reading\": Percentage_Read ,\n",
    "                             \"% Overall Passing Rate \": Average  })\n",
    "School_tabletype.style"
   ]
  },
  {
   "cell_type": "code",
   "execution_count": null,
   "metadata": {},
   "outputs": [],
   "source": [
    "\n"
   ]
  }
 ],
 "metadata": {
  "anaconda-cloud": {},
  "kernel_info": {
   "name": "python3"
  },
  "kernelspec": {
   "display_name": "Python 3",
   "language": "python",
   "name": "python3"
  },
  "language_info": {
   "codemirror_mode": {
    "name": "ipython",
    "version": 3
   },
   "file_extension": ".py",
   "mimetype": "text/x-python",
   "name": "python",
   "nbconvert_exporter": "python",
   "pygments_lexer": "ipython3",
   "version": "3.7.4"
  },
  "latex_envs": {
   "LaTeX_envs_menu_present": true,
   "autoclose": false,
   "autocomplete": true,
   "bibliofile": "biblio.bib",
   "cite_by": "apalike",
   "current_citInitial": 1,
   "eqLabelWithNumbers": true,
   "eqNumInitial": 1,
   "hotkeys": {
    "equation": "Ctrl-E",
    "itemize": "Ctrl-I"
   },
   "labels_anchors": false,
   "latex_user_defs": false,
   "report_style_numbering": false,
   "user_envs_cfg": false
  },
  "nteract": {
   "version": "0.8.4"
  }
 },
 "nbformat": 4,
 "nbformat_minor": 1
}
